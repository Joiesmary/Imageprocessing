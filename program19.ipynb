{
 "cells": [
  {
   "cell_type": "code",
   "execution_count": null,
   "id": "cf5254a3-7255-4955-9940-0bce9ce0560f",
   "metadata": {},
   "outputs": [],
   "source": [
    "import cv2\n",
    "OriginalImg=cv2.imread('butterfly.jpg')\n",
    "GrayImg=cv2.imread('butterfly.jpg',0)\n",
    "isSaved=cv2.imwrite('D:/i.jpg',GrayImg)\n",
    "cv2.imshow('Display original image',OriginalImg)\n",
    "cv2.imshow('Display gray scal image',GrayImg)\n",
    "cv2.waitKey(0)\n",
    "cv2.distroyAllWindows()\n",
    "if isSaved:\n",
    "    print('The image is successfully Saved')\n",
    "\n"
   ]
  },
  {
   "cell_type": "code",
   "execution_count": null,
   "id": "b6f27e46-e2b1-4be6-affd-268d2db5d179",
   "metadata": {},
   "outputs": [],
   "source": []
  }
 ],
 "metadata": {
  "kernelspec": {
   "display_name": "Python 3",
   "language": "python",
   "name": "python3"
  },
  "language_info": {
   "codemirror_mode": {
    "name": "ipython",
    "version": 3
   },
   "file_extension": ".py",
   "mimetype": "text/x-python",
   "name": "python",
   "nbconvert_exporter": "python",
   "pygments_lexer": "ipython3",
   "version": "3.8.8"
  }
 },
 "nbformat": 4,
 "nbformat_minor": 5
}
