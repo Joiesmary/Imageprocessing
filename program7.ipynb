{
 "cells": [
  {
   "cell_type": "code",
   "execution_count": 3,
   "id": "41b74e9f",
   "metadata": {},
   "outputs": [
    {
     "name": "stdout",
     "output_type": "stream",
     "text": [
      "File Name: flower.jpg\n",
      "Fromat: JPEG\n",
      "Mode: RGB\n",
      "size: (2186, 1372)\n",
      "Width: 2186\n",
      "Height: 1372\n"
     ]
    }
   ],
   "source": [
    "from PIL import Image\n",
    "image=Image.open('flower.jpg')\n",
    "print(\"File Name:\",image.filename)\n",
    "print(\"Fromat:\",image.format)\n",
    "print(\"Mode:\",image.mode)\n",
    "print(\"size:\",image.size)\n",
    "print(\"Width:\",image.width)\n",
    "print(\"Height:\",image.height)\n",
    "image.close()"
   ]
  },
  {
   "cell_type": "code",
   "execution_count": null,
   "id": "1302051e",
   "metadata": {},
   "outputs": [],
   "source": []
  }
 ],
 "metadata": {
  "kernelspec": {
   "display_name": "Python 3 (ipykernel)",
   "language": "python",
   "name": "python3"
  },
  "language_info": {
   "codemirror_mode": {
    "name": "ipython",
    "version": 3
   },
   "file_extension": ".py",
   "mimetype": "text/x-python",
   "name": "python",
   "nbconvert_exporter": "python",
   "pygments_lexer": "ipython3",
   "version": "3.9.7"
  }
 },
 "nbformat": 4,
 "nbformat_minor": 5
}
