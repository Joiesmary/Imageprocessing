{
 "cells": [
  {
   "cell_type": "code",
   "execution_count": 1,
   "id": "66ec658c",
   "metadata": {},
   "outputs": [
    {
     "name": "stdout",
     "output_type": "stream",
     "text": [
      "(255, 255, 0)\n",
      "(255, 0, 0)\n",
      "(0, 0, 255)\n"
     ]
    }
   ],
   "source": [
    "from PIL import ImageColor\n",
    "img1=ImageColor.getrgb(\"yellow\")\n",
    "print(img1)\n",
    "img2=ImageColor.getrgb(\"red\")\n",
    "print(img2)\n",
    "img2=ImageColor.getrgb(\"blue\")\n",
    "print(img2)"
   ]
  },
  {
   "cell_type": "code",
   "execution_count": null,
   "id": "dd0331dc",
   "metadata": {},
   "outputs": [],
   "source": []
  }
 ],
 "metadata": {
  "kernelspec": {
   "display_name": "Python 3 (ipykernel)",
   "language": "python",
   "name": "python3"
  },
  "language_info": {
   "codemirror_mode": {
    "name": "ipython",
    "version": 3
   },
   "file_extension": ".py",
   "mimetype": "text/x-python",
   "name": "python",
   "nbconvert_exporter": "python",
   "pygments_lexer": "ipython3",
   "version": "3.9.7"
  }
 },
 "nbformat": 4,
 "nbformat_minor": 5
}
