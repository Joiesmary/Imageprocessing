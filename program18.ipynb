{
 "cells": [
  {
   "cell_type": "code",
   "execution_count": null,
   "id": "d0638542-506c-49d6-844c-7fad5190e56d",
   "metadata": {},
   "outputs": [],
   "source": [
    "import cv2\n",
    "import numpy as np\n",
    "from matplotlib import pyplot as plt\n",
    "from PIL import Image,ImageEnhance\n",
    "img=cv2.imread('butterfly.jpg',0)\n",
    "ax=plt.subplots(figsize=(20,10))\n",
    "kernel=np.ones((5,5),np.unit8)\n",
    "opening=cv2.morphologyEx(img,cv2.MORPH_OPEN,kernel)\n",
    "closing=cv2.morphologyEx(img,cv2.MORPH_CLOSE,kernel)\n",
    "erosion=cv2.erode(img,kernel,iterations=1)\n",
    "dilation=cv2.dilate(img,kernel,iterations=1)\n",
    "gradient=cv2.morphologyEx(img,cv2.MORPH_GRADIENT,kernel)\n",
    "plt.subplot(151)\n",
    "plt.imshow(opening)\n",
    "plt.subplot(152)\n",
    "plt.imshow(closing)\n",
    "plt.subplot(153)\n",
    "plt.imshow(erosion)\n",
    "plt.subplot(154)\n",
    "plt.imshow(opening)\n",
    "plt.subplot(151)\n",
    "plt.imshow(opening)\n"
   ]
  }
 ],
 "metadata": {
  "kernelspec": {
   "display_name": "Python 3",
   "language": "python",
   "name": "python3"
  },
  "language_info": {
   "codemirror_mode": {
    "name": "ipython",
    "version": 3
   },
   "file_extension": ".py",
   "mimetype": "text/x-python",
   "name": "python",
   "nbconvert_exporter": "python",
   "pygments_lexer": "ipython3",
   "version": "3.8.8"
  }
 },
 "nbformat": 4,
 "nbformat_minor": 5
}
